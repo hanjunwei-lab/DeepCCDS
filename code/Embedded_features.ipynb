{
 "cells": [
  {
   "cell_type": "code",
   "execution_count": 1,
   "metadata": {},
   "outputs": [
    {
     "name": "stderr",
     "output_type": "stream",
     "text": [
      "c:\\Users\\Nek\\anaconda3\\envs\\DeepDrug\\lib\\site-packages\\tqdm\\auto.py:21: TqdmWarning: IProgress not found. Please update jupyter and ipywidgets. See https://ipywidgets.readthedocs.io/en/stable/user_install.html\n",
      "  from .autonotebook import tqdm as notebook_tqdm\n"
     ]
    }
   ],
   "source": [
    "import torch.nn as nn\n",
    "import torch\n",
    "import pandas as pd\n",
    "import numpy as np\n",
    "from captum.attr import IntegratedGradients\n",
    "from captum.attr import LayerConductance\n",
    "from captum.attr import NeuronConductance\n",
    "\n",
    "# === Task-specific === #\n",
    "from copy import deepcopy\n",
    "from dataset import NPweightingDataSet\n",
    "from utils import *\n",
    "from trainers import logging, train, validate, test\n",
    "from models import *"
   ]
  },
  {
   "cell_type": "code",
   "execution_count": 3,
   "metadata": {},
   "outputs": [],
   "source": [
    "\n",
    "dr = pd.read_csv(\"D:\\\\2work\\\\GDSC_SMILE_input.csv\", sep=',', header=0)\n",
    "mut_score_df = pd.read_csv(\"D:\\\\2work\\\\GDSC_mutation_input.csv\", sep=',', header=0)\n",
    "cell_exprs_df = pd.read_csv(\"D:\\\\2work\\\\GDSC_ssgsea_input.csv\", sep=',', header=0)\n",
    "samples_train = pd.read_csv(\"D:\\\\2work\\\\GDSC_IC50_by_both.csv\", sep=',', header=0)\n"
   ]
  },
  {
   "cell_type": "code",
   "execution_count": 10,
   "metadata": {},
   "outputs": [],
   "source": [
    "\n",
    "model = torch.load(\"D:\\\\2work\\\\my_both__cv00.model\")\n",
    "drug_autoencoder=model.drug_autoencoder\n",
    "input_tensor = torch.from_numpy(dr.iloc[0:, 2:].values.astype('float64')).float()\n",
    "dr_codes, dr_recs = drug_autoencoder(input_tensor)\n",
    "my_array = dr_codes.detach().numpy()\n",
    "my_array = pd.DataFrame(my_array, index=dr['drug_name'].values)"
   ]
  },
  {
   "cell_type": "code",
   "execution_count": 12,
   "metadata": {},
   "outputs": [],
   "source": [
    "my_array.to_csv(r'D:\\2work\\drug_dim.csv', index=True)"
   ]
  },
  {
   "cell_type": "code",
   "execution_count": 4,
   "metadata": {},
   "outputs": [],
   "source": [
    "\n",
    "model = torch.load(\"D:\\\\2work\\\\my_both__cv00.model\")\n",
    "\n",
    "samples  = samples_train.copy()\n",
    "\n",
    "cell_idx = samples['cell_idx']\n",
    "drug_idx = samples['drug_idx']\n",
    "\n",
    "drug_input = torch.from_numpy(dr.loc[drug_idx.values].iloc[:, 2:].values.astype('float64')).float()\n",
    "cl_input1 = torch.from_numpy(mut_score_df.loc[cell_idx.values].iloc[:, 2:].values.astype('float64')).float()\n",
    "cl_input2 = torch.from_numpy(cell_exprs_df.loc[cell_idx.values].iloc[:, 2:].values.astype('float64')).float()\n",
    "\n",
    "drug_autoencoder=model.drug_autoencoder\n",
    "dr_codes, dr_recs = drug_autoencoder(drug_input)\n",
    "\n",
    "mut_line_autoencoder=model.mut_line_autoencoder\n",
    "mut_codes, mut_recs = mut_line_autoencoder(cl_input1)\n",
    "\n",
    "\n"
   ]
  },
  {
   "cell_type": "code",
   "execution_count": 5,
   "metadata": {},
   "outputs": [],
   "source": [
    "\n",
    "forward_input = torch.cat((dr_codes, mut_codes, cl_input2),axis = 1)\n",
    "forward_input = forward_input.detach().numpy()\n",
    "forward_input = pd.DataFrame(forward_input)\n",
    "forward_input = pd.concat([samples_train[['cell_name', 'drug_name']], forward_input], axis=1)\n"
   ]
  },
  {
   "cell_type": "code",
   "execution_count": 6,
   "metadata": {},
   "outputs": [],
   "source": [
    "forward_input.to_csv(r'D:\\2work\\forward_input.csv', index=False)"
   ]
  }
 ],
 "metadata": {
  "kernelspec": {
   "display_name": "DeepDrug",
   "language": "python",
   "name": "python3"
  },
  "language_info": {
   "codemirror_mode": {
    "name": "ipython",
    "version": 3
   },
   "file_extension": ".py",
   "mimetype": "text/x-python",
   "name": "python",
   "nbconvert_exporter": "python",
   "pygments_lexer": "ipython3",
   "version": "3.8.16"
  }
 },
 "nbformat": 4,
 "nbformat_minor": 2
}
